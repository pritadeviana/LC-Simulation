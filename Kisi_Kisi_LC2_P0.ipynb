{
  "nbformat": 4,
  "nbformat_minor": 0,
  "metadata": {
    "colab": {
      "provenance": [],
      "collapsed_sections": [
        "93lrf3BIZ3hO",
        "FZERtta1Z8Ui"
      ],
      "include_colab_link": true
    },
    "kernelspec": {
      "name": "python3",
      "display_name": "Python 3"
    },
    "language_info": {
      "name": "python"
    }
  },
  "cells": [
    {
      "cell_type": "markdown",
      "metadata": {
        "id": "view-in-github",
        "colab_type": "text"
      },
      "source": [
        "<a href=\"https://colab.research.google.com/github/pritadeviana/LC-Simulation/blob/main/Kisi_Kisi_LC2_P0.ipynb\" target=\"_parent\"><img src=\"https://colab.research.google.com/assets/colab-badge.svg\" alt=\"Open In Colab\"/></a>"
      ]
    },
    {
      "cell_type": "markdown",
      "source": [
        "# **Kisi-kisi LC2**\n",
        "\n",
        "Dataset yang digunakan pada latihan ini berasal dari bigquery public data. Lakukan koneksi Google Colaboratory dengan BigQuery menggunakan syntax berikut:\n",
        "\n",
        "```\n",
        "from google.colab import auth\n",
        "from google.cloud import bigquery\n",
        "auth.authenticate_user()\n",
        "print('Authenticated')\n",
        "\n",
        "project_id = \"hckv8-95102\" #GUNAKAN GCP PROJECT-ID KALIAN MASING-MASING\n",
        "client = bigquery.Client(project=project_id)\n",
        "```\n",
        "\n",
        "lalu lakukan query pada notebook menggunakan cara berikut:\n",
        "\n",
        "```\n",
        "df_1 = client.query('''\n",
        "SELECT *\n",
        "FROM table_name`\n",
        "''').to_dataframe()\n",
        "\n",
        "df_1\n",
        "```\n",
        "\n",
        "---\n",
        "\n",
        "Dataset yang digunakan merupakan `record perjalanan peminjam sepeda`, dapat diakses pada:\n",
        "\n",
        "- **Project_id_Database**: ftds-hacktiv8-project\n",
        "- **Dataset**            : practice\n",
        "- **Table**              : bike_rent\n",
        "\n",
        "Lakukan pengolahan SQL langsung melalui Google Colaboratory yang telah dikoneksikan pada BigQuery\n",
        "\n",
        "---\n",
        "Pada notebook ini terdapat 2 section, **SQL** dan **Pandas**.\n",
        "\n",
        "Kerjakan masing-masing section sesuai dengan ketentuan di bawah:\n",
        "\n",
        "## A. **SQL**\n",
        "\n",
        "  >**Jawab masing-masing soal dalam 1 query.**\n",
        "\n",
        "  1. Berapa banyak label unique dari `bike_type`?  \n",
        "  2. Apa saja nama label unique dari tipe sepeda?\n",
        "  3. Berapa banyak total peminjaman sepeda pada tahun 2016 dan 2017?\n",
        "  4. Dimana station yang paling banyak dikunjungi sebagai titik keberangkatan pada tahun 2016?\n",
        "  5. Berapa nilai minimum, maximum, dan rata-rata dari durasi perjalanan pada keseluruhan data?\n",
        "  6. Berapa rata-rata durasi perjalanan dari subscriber_type `Explorer` dan `Weekender`?\n",
        "  7. Tampilkan entry data yang memiliki `duration_time` diatas 4.25 jam. (*Gunakan subquery untuk menjawab pertanyaan ini dengan meng-convert duration_time dari menit ke hour*).\n",
        "\n",
        "## B. **Pandas**\n",
        "  >**Data yang akan diolah menggunakan Pandas wajib diambil menggunakan Query berikut:**\n",
        "  ```\n",
        "  SELECT *\n",
        "  FROM `ftds-hacktiv8-project.practice.bike_rent`\n",
        "  ```\n",
        "  \n",
        "  >Simpan data yang telah diambil ke dalam variabel `df` (penamaan variabel dibebaskan), **lakukan pengolah di bawah ini menggunakan library Pandas**:\n",
        "\n",
        "  1. Cek kesesuaian tipe data dan keberadaan missing values dengan `.info()`\n",
        "\n",
        "  2. Buat kolom baru bernama `quarter`.\n",
        "  \n",
        "  Lakukan ekstraksi waktu (quarter dalam tahun) berdasarkan kolom `start_time` dengan ketentuan berikut:\n",
        "\n",
        "<div align=\"center\">\n",
        "\n",
        "  |Keterangan Waktu|Bulan|\n",
        "  |--|--|\n",
        "  |Q1|Januari, Februari, Maret|\n",
        "  |Q2|April, Mei, Juni|\n",
        "  |Q3|Juli, Agustus, September|\n",
        "  |Q4|Oktober, November, Desember|\n",
        "\n",
        "</div>\n",
        "\n",
        "  3. Tampilkan data perjalanan dari tipe member `Local365` dengan durasi perjalanan diatas 1 jam *`(Jika tidak ada entry yang memenuhi kondisi ini tidak apa, tuliskan kode pandasnya dengan lengkap saja)`*.\n",
        "\n",
        "  4. Berapa rata-rata durasi perjalanan dari tipe pelanggan `Walk Up` dengan tipe sepeda `classic` pada bulan `Maret` berdasarkan data yang diambil? *`(Jika tidak ada entry yang memenuhi kondisi ini tidak apa, tuliskan kode pandasnya dengan lengkap saja)`*.\n",
        "\n",
        ">**Notes:**\n",
        ">- Dalam menjawab soal Pandas no. 2, **tidak boleh** menggunakan ekstraksi waktu `Series.dt.quarter`\n",
        "- Lakukan `looping` dan `conditional` dengan memanfaatkan ekstraksi bulan `Series.dt.month` terhadap kolom `start_time`, pastikan tipe datanya ialah `datetime` agar dapat dilakukan ekstraksi.\n",
        "- Simpan hasil looping ke dalam suatu variabel, dan buat kolom baru berisikan variabel sebelumnya.\n",
        "\n"
      ],
      "metadata": {
        "id": "sMMsXXXdHVRr"
      }
    },
    {
      "cell_type": "markdown",
      "source": [
        "###**SQL**"
      ],
      "metadata": {
        "id": "FX015hpGR3mt"
      }
    },
    {
      "cell_type": "markdown",
      "source": [
        "#####1. Berapa banyak label unique dari bike_type?"
      ],
      "metadata": {
        "id": "dkUfZe4bNLVE"
      }
    },
    {
      "cell_type": "code",
      "source": [
        "# working area\n",
        "\n",
        "SELECT\n",
        "CASE\n",
        "WHEN COUNT (DISTINCT(column_1)) = COUNT(column_1) THEN 'column values are unique'\n",
        "ELSE 'column values are NOT unique'\n",
        "END\n",
        "FROM bike_type;\n",
        "\n"
      ],
      "metadata": {
        "id": "OJK-tK5ELY1Q",
        "outputId": "6b9a6c25-9c19-4f04-8dd3-2475f39e32e7",
        "colab": {
          "base_uri": "https://localhost:8080/",
          "height": 106
        }
      },
      "execution_count": 20,
      "outputs": [
        {
          "output_type": "error",
          "ename": "SyntaxError",
          "evalue": "invalid syntax (<ipython-input-20-eb8e551e2949>, line 5)",
          "traceback": [
            "\u001b[0;36m  File \u001b[0;32m\"<ipython-input-20-eb8e551e2949>\"\u001b[0;36m, line \u001b[0;32m5\u001b[0m\n\u001b[0;31m    WHEN COUNT (DISTINCT(column_1)) = COUNT(column_1) THEN 'column values are unique'\u001b[0m\n\u001b[0m         ^\u001b[0m\n\u001b[0;31mSyntaxError\u001b[0m\u001b[0;31m:\u001b[0m invalid syntax\n"
          ]
        }
      ]
    },
    {
      "cell_type": "markdown",
      "source": [
        "#####2. Apa saja nama label unique dari tipe sepeda?"
      ],
      "metadata": {
        "id": "yqU5DqdoNR54"
      }
    },
    {
      "cell_type": "code",
      "source": [
        "# working area\n"
      ],
      "metadata": {
        "id": "XIn3xwWmNSci"
      },
      "execution_count": null,
      "outputs": []
    },
    {
      "cell_type": "markdown",
      "source": [
        "#####3. Berapa banyak total peminjaman sepeda pada tahun 2016 dan 2017?"
      ],
      "metadata": {
        "id": "3TllgQfhNStc"
      }
    },
    {
      "cell_type": "code",
      "source": [
        "# working area\n"
      ],
      "metadata": {
        "id": "SrPVEYv3NTVC"
      },
      "execution_count": null,
      "outputs": []
    },
    {
      "cell_type": "markdown",
      "source": [
        "#####4. Dimana station yang paling banyak dikunjungi sebagai titik keberangkatan pada tahun 2016?"
      ],
      "metadata": {
        "id": "q-5LX1NtNTmO"
      }
    },
    {
      "cell_type": "code",
      "source": [
        "# working area\n"
      ],
      "metadata": {
        "id": "6ff3eFJSNUNB"
      },
      "execution_count": null,
      "outputs": []
    },
    {
      "cell_type": "markdown",
      "source": [
        "#####5. Berapa nilai minimum, maximum, dan rata-rata dari durasi perjalanan pada keseluruhan data?"
      ],
      "metadata": {
        "id": "BZZz9iXhNU17"
      }
    },
    {
      "cell_type": "code",
      "source": [
        "# working area\n"
      ],
      "metadata": {
        "id": "dz3oGKPVP_8c"
      },
      "execution_count": null,
      "outputs": []
    },
    {
      "cell_type": "markdown",
      "source": [
        "#####6. Berapa rata-rata durasi perjalanan dari subscriber_type `Student Membership` dan `Local31`?"
      ],
      "metadata": {
        "id": "EiKu5swvQALS"
      }
    },
    {
      "cell_type": "code",
      "source": [
        "# working area\n"
      ],
      "metadata": {
        "id": "Jnvzn5BkQAcO"
      },
      "execution_count": null,
      "outputs": []
    },
    {
      "cell_type": "markdown",
      "source": [
        "#####7. Tampilkan entry data yang memiliki `duration_time` diatas 4.25 jam. (*Gunakan subquery untuk menjawab pertanyaan ini dengan meng-convert duration_time dari menit ke hour*)."
      ],
      "metadata": {
        "id": "z1CAHsOdfx3i"
      }
    },
    {
      "cell_type": "code",
      "source": [
        "# working area\n"
      ],
      "metadata": {
        "id": "lTR0MdRTIGcx"
      },
      "execution_count": null,
      "outputs": []
    },
    {
      "cell_type": "markdown",
      "source": [],
      "metadata": {
        "id": "1OD4lDM6dfa4"
      }
    },
    {
      "cell_type": "markdown",
      "source": [
        "###**Pandas**"
      ],
      "metadata": {
        "id": "LMQKRnmxR7M6"
      }
    },
    {
      "cell_type": "markdown",
      "source": [
        "#####Data Loading"
      ],
      "metadata": {
        "id": "71m6s1dCZDML"
      }
    },
    {
      "cell_type": "code",
      "source": [
        "# working area\n"
      ],
      "metadata": {
        "id": "2Qn_MrlZZH2X"
      },
      "execution_count": null,
      "outputs": []
    },
    {
      "cell_type": "markdown",
      "source": [
        "#####1. Cek kesesuaian tipe data dan keberadaan missing values dengan `.info()`"
      ],
      "metadata": {
        "id": "Kxi-1riqR9du"
      }
    },
    {
      "cell_type": "code",
      "source": [
        "# working area\n"
      ],
      "metadata": {
        "id": "w-N-xCSpSCdx"
      },
      "execution_count": null,
      "outputs": []
    },
    {
      "cell_type": "markdown",
      "source": [
        "#####2. Buat kolom baru bernama `quarter`.\n",
        "  \n",
        "  Lakukan ekstraksi waktu (quarter dalam tahun) berdasarkan kolom `start_time` dengan ketentuan berikut:\n",
        "\n",
        "<div align=\"center\">\n",
        "\n",
        "  |Keterangan Waktu|Bulan|\n",
        "  |--|--|\n",
        "  |Q1|Januari, Februari, Maret|\n",
        "  |Q2|April, Mei, Juni|\n",
        "  |Q3|Juli, Agustus, September|\n",
        "  |Q4|Oktober, November, Desember|\n",
        "\n",
        "</div>\n",
        "\n",
        ">**Notes:**\n",
        ">- Dalam menjawab soal Pandas no. 2, **tidak boleh** menggunakan ekstraksi waktu `Series.dt.quarter`.\n",
        "- Lakukan `looping` dan `conditional` dengan memanfaatkan ekstraksi bulan `Series.dt.month` terhadap kolom `start_time`, pastikan tipe datanya ialah `datetime` agar dapat dilakukan ekstraksi.\n",
        "- Simpan hasil looping ke dalam suatu variabel, dan buat kolom baru berisikan variabel sebelumnya."
      ],
      "metadata": {
        "id": "6SBt97zuQArl"
      }
    },
    {
      "cell_type": "code",
      "source": [
        "# working area\n"
      ],
      "metadata": {
        "id": "TirYpd6aSDhv"
      },
      "execution_count": null,
      "outputs": []
    },
    {
      "cell_type": "markdown",
      "source": [
        "#####3. Tampilkan data perjalanan dari tipe member `Local31` dengan durasi perjalanan diatas 1 jam.\n",
        "*(Jika tidak ada entry yang memenuhi kondisi ini tidak apa, tuliskan kode pandasnya dengan lengkap saja)*"
      ],
      "metadata": {
        "id": "93lrf3BIZ3hO"
      }
    },
    {
      "cell_type": "code",
      "source": [
        "# working area\n"
      ],
      "metadata": {
        "id": "5OBS7_D5Z8DG"
      },
      "execution_count": null,
      "outputs": []
    },
    {
      "cell_type": "markdown",
      "source": [
        "#####4. Berapa rata-rata durasi perjalanan dari tipe pelanggan `Walk Up` dengan tipe sepeda `classic` pada bulan `Maret` dari data yang diambil?\n",
        "*(Jika tidak ada entry yang memenuhi kondisi ini tidak apa, tuliskan kode pandasnya dengan lengkap saja)*"
      ],
      "metadata": {
        "id": "FZERtta1Z8Ui"
      }
    },
    {
      "cell_type": "code",
      "source": [
        "# working area\n"
      ],
      "metadata": {
        "id": "R_d5aUcTZ_q5"
      },
      "execution_count": null,
      "outputs": []
    },
    {
      "cell_type": "code",
      "source": [
        "df_1.to_csv('a_out.csv')"
      ],
      "metadata": {
        "id": "6v8Gss1tMG3r"
      },
      "execution_count": null,
      "outputs": []
    }
  ]
}