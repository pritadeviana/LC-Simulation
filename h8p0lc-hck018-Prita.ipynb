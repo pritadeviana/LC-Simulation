{
 "cells": [
  {
   "cell_type": "markdown",
   "metadata": {},
   "source": [
    "Nama : Pritalia Safira Deviana\n",
    "\n",
    "\n",
    "Batch : HCK018"
   ]
  },
  {
   "cell_type": "markdown",
   "metadata": {},
   "source": [
    "<b>Diketahui : </b>\n",
    "\n",
    "behavior:   nama barang\n",
    "            kategori barang\n",
    "            harga barang\n",
    "\n",
    "\n",
    "class: DataBarang & TestData\n",
    "\n",
    "input : data = [[nama, kategori, harga1], [nama2, kategori2, harga2], [nama_dst, kategori_dst, harga_dst]]\n",
    "\n",
    "*Tampilan Menu yang diharapkan: \n",
    "\n",
    "<b>1.</b> Input Data\n",
    "\n",
    "<b>2.</b> Menampilkan Data\n",
    "\n",
    "<i>*hint: menggunakan while loop karena ada command exit</i>"
   ]
  },
  {
   "cell_type": "markdown",
   "metadata": {},
   "source": [
    "Berikut merupakan proses dari menjawab pertanyaan yang telah diberikan:"
   ]
  },
  {
   "cell_type": "code",
   "execution_count": 8,
   "metadata": {},
   "outputs": [],
   "source": [
    "items : [[\"Sunlight Lemon\", \"Sabun Cuci Piring\", 13500], \n",
    "         [\"Daia Lavender\", \"Deterjen\", 5000], \n",
    "         [\"Sikat Kamar Mandi\", \"Peralatan Rumah Tangga\", 3000]]"
   ]
  },
  {
   "cell_type": "code",
   "execution_count": 6,
   "metadata": {},
   "outputs": [
    {
     "name": "stdout",
     "output_type": "stream",
     "text": [
      "Program Inventory Management\n"
     ]
    }
   ],
   "source": [
    "print(f\"Program Inventory Management\")\n",
    "keranjang: []\n",
    "harga: []\n"
   ]
  },
  {
   "cell_type": "code",
   "execution_count": 5,
   "metadata": {},
   "outputs": [
    {
     "name": "stdout",
     "output_type": "stream",
     "text": [
      "Data Inventory\n"
     ]
    }
   ],
   "source": [
    "print(f\"Data Inventory\")"
   ]
  },
  {
   "cell_type": "code",
   "execution_count": 7,
   "metadata": {},
   "outputs": [
    {
     "name": "stdout",
     "output_type": "stream",
     "text": [
      "Menu Input Data Inventory\n"
     ]
    }
   ],
   "source": [
    "print(f\"Menu Input Data Inventory\")"
   ]
  },
  {
   "cell_type": "code",
   "execution_count": 10,
   "metadata": {},
   "outputs": [],
   "source": [
    "class DataBarang():\n",
    "\n",
    "    def __init__(self, nama_barang, kategori_barang, harga_barang):\n",
    "        self.nama_barang = nama_barang\n",
    "        self.kategori_barang = kategori_barang\n",
    "        self.harga_barang = harga_barang\n",
    "\n",
    "    def nama_barang(self):\n",
    "        return self.nama_barang\n",
    "\n",
    "    def kategori_barang(self):\n",
    "        return self.kategori_barang\n",
    "    \n",
    "    def harga_barang(self):\n",
    "        return self.harga_barang\n"
   ]
  },
  {
   "cell_type": "markdown",
   "metadata": {},
   "source": [
    "Pada proses pertama, developer membuat code-code awal mengenai data barang serta penggambaran tampilan pada <b>Header</b> yang dimana dapat mengetahui bagian-bagian apa yang akan dipergunakan untuk dilakukan uji testing pada <b>unittest</b>"
   ]
  },
  {
   "cell_type": "code",
   "execution_count": 11,
   "metadata": {},
   "outputs": [
    {
     "ename": "IndentationError",
     "evalue": "expected an indented block (580185782.py, line 5)",
     "output_type": "error",
     "traceback": [
      "\u001b[1;36m  Cell \u001b[1;32mIn[11], line 5\u001b[1;36m\u001b[0m\n\u001b[1;33m    print()\u001b[0m\n\u001b[1;37m    ^\u001b[0m\n\u001b[1;31mIndentationError\u001b[0m\u001b[1;31m:\u001b[0m expected an indented block\n"
     ]
    }
   ],
   "source": [
    "while True:\n",
    "    if keranjang:\n",
    "        pass\n",
    "    else:\n",
    "    print(\"Menu:\")\n",
    "    print(\"1. Input Data\")\n",
    "    print(\"2. Menampilkan Data\")\n",
    "    \n",
    "    print(\"Exit\")\n",
    "    \n",
    "    select = int(input(\"Klik Nomor Menu yang Diinginkan\"))\n",
    "\n",
    "    if select == 1:"
   ]
  },
  {
   "cell_type": "markdown",
   "metadata": {},
   "source": [
    "Pada proses selanjutnya, terdapat menu commands yang merupakan sebuah \"Bila\", yakni untuk memilih pilihan menu yang diinginkan dengan menggunkan commands while, if, dan else."
   ]
  },
  {
   "cell_type": "code",
   "execution_count": null,
   "metadata": {},
   "outputs": [],
   "source": []
  },
  {
   "cell_type": "markdown",
   "metadata": {},
   "source": []
  }
 ],
 "metadata": {
  "kernelspec": {
   "display_name": "hacktiv8-phyton",
   "language": "python",
   "name": "python3"
  },
  "language_info": {
   "codemirror_mode": {
    "name": "ipython",
    "version": 3
   },
   "file_extension": ".py",
   "mimetype": "text/x-python",
   "name": "python",
   "nbconvert_exporter": "python",
   "pygments_lexer": "ipython3",
   "version": "3.9.19"
  }
 },
 "nbformat": 4,
 "nbformat_minor": 2
}
